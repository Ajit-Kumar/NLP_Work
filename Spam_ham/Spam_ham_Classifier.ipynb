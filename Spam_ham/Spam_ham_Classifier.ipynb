{
  "nbformat": 4,
  "nbformat_minor": 0,
  "metadata": {
    "colab": {
      "name": "Spam_ham_Classifier.ipynb",
      "provenance": [],
      "collapsed_sections": []
    },
    "kernelspec": {
      "name": "python3",
      "display_name": "Python 3"
    }
  },
  "cells": [
    {
      "cell_type": "code",
      "metadata": {
        "id": "qOxdVoqZfSGl",
        "outputId": "8f4f92d2-c4a0-45d6-9da6-5189e3a6af6d",
        "colab": {
          "base_uri": "https://localhost:8080/",
          "height": 35
        }
      },
      "source": [
        "from google.colab import drive\n",
        "drive.mount('/content/drive')"
      ],
      "execution_count": 106,
      "outputs": [
        {
          "output_type": "stream",
          "text": [
            "Drive already mounted at /content/drive; to attempt to forcibly remount, call drive.mount(\"/content/drive\", force_remount=True).\n"
          ],
          "name": "stdout"
        }
      ]
    },
    {
      "cell_type": "code",
      "metadata": {
        "id": "pk1MHg0qfdaA",
        "outputId": "000eca79-8682-4122-a0b4-e8ece575d51a",
        "colab": {
          "base_uri": "https://localhost:8080/",
          "height": 126
        }
      },
      "source": [
        "import pandas as pd\n",
        "import numpy as np\n",
        "import seaborn as sns\n",
        "\n",
        "import re\n",
        "import nltk\n",
        "from nltk.corpus import stopwords # to remove stopwords \n",
        "nltk.download('stopwords') # for downloading the stopword of english\n",
        "nltk.download('punkt') #this is required for sentence tokenization\n",
        "from nltk.stem import PorterStemmer #this for stemming\n",
        "from nltk.stem import WordNetLemmatizer #this is used in lemmatization\n",
        "nltk.download('wordnet') # this is required for lemmatization\n",
        "\n",
        "from sklearn.feature_extraction.text import CountVectorizer\n",
        "from sklearn.feature_extraction.text import TfidfVectorizer\n",
        "\n",
        "from sklearn.metrics import classification_report\n",
        "from sklearn.metrics import confusion_matrix\n",
        "from sklearn.metrics import accuracy_score\n",
        "from sklearn.metrics import precision_score\n",
        "from sklearn.metrics import  recall_score\n",
        "from sklearn.metrics import roc_curve\n",
        "from sklearn.metrics import roc_auc_score\n",
        "from sklearn.metrics import f1_score\n",
        "from sklearn.metrics import  auc\n",
        "from sklearn.model_selection import cross_val_score\n",
        "import sklearn.metrics as metrics\n",
        "\n",
        "import matplotlib.pyplot as plt\n",
        "\n",
        "from sklearn.naive_bayes import MultinomialNB\n",
        "from sklearn.model_selection import train_test_split"
      ],
      "execution_count": 107,
      "outputs": [
        {
          "output_type": "stream",
          "text": [
            "[nltk_data] Downloading package stopwords to /root/nltk_data...\n",
            "[nltk_data]   Package stopwords is already up-to-date!\n",
            "[nltk_data] Downloading package punkt to /root/nltk_data...\n",
            "[nltk_data]   Package punkt is already up-to-date!\n",
            "[nltk_data] Downloading package wordnet to /root/nltk_data...\n",
            "[nltk_data]   Package wordnet is already up-to-date!\n"
          ],
          "name": "stdout"
        }
      ]
    },
    {
      "cell_type": "code",
      "metadata": {
        "id": "EbIlHVJVfn0y"
      },
      "source": [
        "df_spam = pd.read_csv('/content/drive/My Drive/Spam_ham/SMSSpamCollection',sep='\\t',names=['Label','Corpus'])"
      ],
      "execution_count": 135,
      "outputs": []
    },
    {
      "cell_type": "code",
      "metadata": {
        "id": "JpfeAuq-fydL",
        "outputId": "c7aed01b-c65e-4f6d-e3f7-d80a14a681c9",
        "colab": {
          "base_uri": "https://localhost:8080/",
          "height": 206
        }
      },
      "source": [
        "df_spam.head()"
      ],
      "execution_count": 136,
      "outputs": [
        {
          "output_type": "execute_result",
          "data": {
            "text/html": [
              "<div>\n",
              "<style scoped>\n",
              "    .dataframe tbody tr th:only-of-type {\n",
              "        vertical-align: middle;\n",
              "    }\n",
              "\n",
              "    .dataframe tbody tr th {\n",
              "        vertical-align: top;\n",
              "    }\n",
              "\n",
              "    .dataframe thead th {\n",
              "        text-align: right;\n",
              "    }\n",
              "</style>\n",
              "<table border=\"1\" class=\"dataframe\">\n",
              "  <thead>\n",
              "    <tr style=\"text-align: right;\">\n",
              "      <th></th>\n",
              "      <th>Label</th>\n",
              "      <th>Corpus</th>\n",
              "    </tr>\n",
              "  </thead>\n",
              "  <tbody>\n",
              "    <tr>\n",
              "      <th>0</th>\n",
              "      <td>ham</td>\n",
              "      <td>Go until jurong point, crazy.. Available only ...</td>\n",
              "    </tr>\n",
              "    <tr>\n",
              "      <th>1</th>\n",
              "      <td>ham</td>\n",
              "      <td>Ok lar... Joking wif u oni...</td>\n",
              "    </tr>\n",
              "    <tr>\n",
              "      <th>2</th>\n",
              "      <td>spam</td>\n",
              "      <td>Free entry in 2 a wkly comp to win FA Cup fina...</td>\n",
              "    </tr>\n",
              "    <tr>\n",
              "      <th>3</th>\n",
              "      <td>ham</td>\n",
              "      <td>U dun say so early hor... U c already then say...</td>\n",
              "    </tr>\n",
              "    <tr>\n",
              "      <th>4</th>\n",
              "      <td>ham</td>\n",
              "      <td>Nah I don't think he goes to usf, he lives aro...</td>\n",
              "    </tr>\n",
              "  </tbody>\n",
              "</table>\n",
              "</div>"
            ],
            "text/plain": [
              "  Label                                             Corpus\n",
              "0   ham  Go until jurong point, crazy.. Available only ...\n",
              "1   ham                      Ok lar... Joking wif u oni...\n",
              "2  spam  Free entry in 2 a wkly comp to win FA Cup fina...\n",
              "3   ham  U dun say so early hor... U c already then say...\n",
              "4   ham  Nah I don't think he goes to usf, he lives aro..."
            ]
          },
          "metadata": {
            "tags": []
          },
          "execution_count": 136
        }
      ]
    },
    {
      "cell_type": "code",
      "metadata": {
        "id": "s5GmDWxqgHgM"
      },
      "source": [
        "#checking the length of message\n",
        "df_spam['Length'] = df_spam.Corpus.apply(len)"
      ],
      "execution_count": 137,
      "outputs": []
    },
    {
      "cell_type": "code",
      "metadata": {
        "id": "5lnyeV6LgVlv",
        "outputId": "bda30e1e-7bac-463d-d6e3-5167fce820c2",
        "colab": {
          "base_uri": "https://localhost:8080/",
          "height": 355
        }
      },
      "source": [
        "#checkig the distribution of class\n",
        "sns.countplot(df_spam['Label'])"
      ],
      "execution_count": 138,
      "outputs": [
        {
          "output_type": "stream",
          "text": [
            "/usr/local/lib/python3.6/dist-packages/seaborn/_decorators.py:43: FutureWarning: Pass the following variable as a keyword arg: x. From version 0.12, the only valid positional argument will be `data`, and passing other arguments without an explicit keyword will result in an error or misinterpretation.\n",
            "  FutureWarning\n"
          ],
          "name": "stderr"
        },
        {
          "output_type": "execute_result",
          "data": {
            "text/plain": [
              "<matplotlib.axes._subplots.AxesSubplot at 0x7fed30cd5780>"
            ]
          },
          "metadata": {
            "tags": []
          },
          "execution_count": 138
        },
        {
          "output_type": "display_data",
          "data": {
            "image/png": "[encoded data removed]",
            "text/plain": [
              "<Figure size 432x288 with 1 Axes>"
            ]
          },
          "metadata": {
            "tags": [],
            "needs_background": "light"
          }
        }
      ]
    },
    {
      "cell_type": "markdown",
      "metadata": {
        "id": "pNDeMdHnFA0x"
      },
      "source": [
        "## Bag-of-words model"
      ]
    },
    {
      "cell_type": "markdown",
      "metadata": {
        "id": "pxMUb1bihszt"
      },
      "source": [
        "Modelling using the stemming techniques"
      ]
    },
    {
      "cell_type": "code",
      "metadata": {
        "id": "Ej_3qFzsgoyx"
      },
      "source": [
        "#text cleaning\n",
        "\n",
        "def clean_text(df,columns,tech):\n",
        "\n",
        "  corpus = []\n",
        "  cleaned_corpus= []\n",
        "\n",
        "  if tech == 'stem':\n",
        "    ps = PorterStemmer()\n",
        "    for i in df[columns]:\n",
        "      clean_sent = re.sub('[^a-zA-Z]',' ', i).lower().split()\n",
        "      remove_stopwords = [ps.stem(words) for words in clean_sent if words not in set(stopwords.words('english'))]\n",
        "      corpus.append(' '.join(remove_stopwords))\n",
        "      cleaned_corpus.append(' '.join(remove_stopwords))\n",
        "  else:\n",
        "    lamm = WordNetLemmatizer()\n",
        "    for i in df[columns]:\n",
        "      clean_sent = re.sub('[^a-zA-Z]',' ', i).lower().split()\n",
        "      remove_stopwords = [lamm.lemmatize(words) for words in clean_sent if words not in set(stopwords.words('english'))]\n",
        "      corpus.append(' '.join(remove_stopwords))\n",
        "      cleaned_corpus.append(' '.join(remove_stopwords))\n",
        "  return corpus,cleaned_corpus"
      ],
      "execution_count": 139,
      "outputs": []
    },
    {
      "cell_type": "code",
      "metadata": {
        "id": "19CWrdB3945f"
      },
      "source": [
        "def evaluate_model(y_test, predicted, predicted_prob, show_thresholds=True, figsize=(25,5)):\n",
        "    classes = np.unique(y_test)\n",
        "    fig, ax = plt.subplots(nrows=1, ncols=3, figsize=figsize)\n",
        "    \n",
        "    ## Accuray e AUC\n",
        "    accuracy = metrics.accuracy_score(y_test, predicted)\n",
        "    auc = metrics.roc_auc_score(y_test, predicted_prob)\n",
        "    print(\"Accuracy (overall correct predictions):\",  round(accuracy,2))\n",
        "    print(\"Auc:\", round(auc,2))\n",
        "    \n",
        "    ## Precision e Recall\n",
        "    recall = metrics.recall_score(y_test, predicted)  #= true 1s / all 1s in test (got and missed)\n",
        "    precision = metrics.precision_score(y_test, predicted)  #= true 1s / all 1s predicted (true 1s + false 1s)\n",
        "    f1 = metrics.f1_score(y_test, predicted)  #=2 * (precision * recall) / (precision + recall)\n",
        "    print(\"Recall (all 1s predicted right):\", round(recall,2))  #true positive rate, how many 1s I got\n",
        "    print(\"Precision (confidence when predicting a 1):\", round(precision,2))  #how many 1s were really 1s\n",
        "    print(\"F1 score:\", round(f1,2))\n",
        "    print(\"Detail:\")\n",
        "    print(metrics.classification_report(y_test, predicted, target_names=[str(i) for i in classes]))\n",
        "       \n",
        "    ## Plot confusion matrix\n",
        "    cm = metrics.confusion_matrix(y_test, predicted, labels=classes)\n",
        "    sns.heatmap(cm, annot=True, annot_kws={\"size\":15}, fmt='d', ax=ax[0], cmap=plt.cm.Blues, cbar=False)\n",
        "    ax[0].set(xlabel=\"Pred\", ylabel=\"True\", title=\"Confusion matrix\")\n",
        "    ax[0].set_yticklabels(labels=classes, rotation=0)\n",
        " \n",
        "    ## Plot roc\n",
        "    fpr, tpr, thresholds = metrics.roc_curve(y_test, predicted_prob)    \n",
        "    ax[1].plot(fpr, tpr, color='darkorange', lw=3, label='area = %0.2f' % metrics.auc(fpr, tpr))\n",
        "    ax[1].plot([0,1], [0,1], color='navy', lw=3, linestyle='--')\n",
        "    ax[1].hlines(y=recall, xmin=-0.05, xmax=1-cm[0,0]/(cm[0,0]+cm[0,1]), color='red', linestyle='--', alpha=0.7, label=\"chosen threshold\")\n",
        "    ax[1].vlines(x=1-cm[0,0]/(cm[0,0]+cm[0,1]), ymin=0, ymax=recall, color='red', linestyle='--', alpha=0.7)\n",
        "    ax[1].set(xlim=[-0.05,1], ylim=[0.0,1.05], xlabel='False Positive Rate', ylabel=\"True Positive Rate (Recall)\", title=\"ROC Curve\")     \n",
        "    ax[1].legend(loc=\"lower right\")\n",
        "    ax[1].grid(True)\n",
        "    if show_thresholds is True:\n",
        "        thres_in_plot = []\n",
        "        for i,t in enumerate(thresholds):\n",
        "            t = np.round(t,1)\n",
        "            if t not in thres_in_plot:\n",
        "                ax[1].annotate(t, xy=(fpr[i],tpr[i]), xytext=(fpr[i],tpr[i]), textcoords='offset points', ha='left', va='bottom')\n",
        "                thres_in_plot.append(t)\n",
        "            else:\n",
        "                next\n",
        "    \n",
        "    ## Plot precision-recall curve\n",
        "    precisions, recalls, thresholds = metrics.precision_recall_curve(y_test, predicted_prob)\n",
        "    ax[2].plot(recalls, precisions, color='darkorange', lw=3, label='area = %0.2f' % metrics.auc(recalls, precisions))\n",
        "    ax[2].plot([0,1], [(cm[1,0]+cm[1,0])/len(y_test), (cm[1,0]+cm[1,0])/len(y_test)], linestyle='--', color='navy', lw=3)\n",
        "    ax[2].hlines(y=precision, xmin=0, xmax=recall, color='red', linestyle='--', alpha=0.7, label=\"chosen threshold\")\n",
        "    ax[2].vlines(x=recall, ymin=0, ymax=precision, color='red', linestyle='--', alpha=0.7)\n",
        "    ax[2].set(xlim=[0.0,1.05], ylim=[0.0,1.05], xlabel='Recall', ylabel=\"Precision\", title=\"Precision-Recall curve\")\n",
        "    ax[2].legend(loc=\"lower left\")\n",
        "    ax[2].grid(True)\n",
        "    if show_thresholds is True:\n",
        "        thres_in_plot = []\n",
        "        for i,t in enumerate(thresholds):\n",
        "            t = np.round(t,1)\n",
        "            if t not in thres_in_plot:\n",
        "                ax[2].annotate(np.round(t,1), xy=(recalls[i],precisions[i]), xytext=(recalls[i],precisions[i]), textcoords='offset points', ha='right', va='bottom')\n",
        "                thres_in_plot.append(t)\n",
        "            else:\n",
        "                next\n",
        "    plt.show()"
      ],
      "execution_count": 140,
      "outputs": []
    },
    {
      "cell_type": "code",
      "metadata": {
        "id": "Yhf3WIYztS_O"
      },
      "source": [
        "df_spam['Corpus_clean_stem'],cleaned_corpus = clean_text(df_spam,columns='Corpus',tech='stem') #using stemming"
      ],
      "execution_count": 141,
      "outputs": []
    },
    {
      "cell_type": "code",
      "metadata": {
        "id": "B7v4irRJ8bP9"
      },
      "source": [
        "#creating dummies for the target variable\n",
        "df_spam['Target'] = pd.get_dummies(df_spam['Label'],drop_first=True)"
      ],
      "execution_count": 142,
      "outputs": []
    },
    {
      "cell_type": "code",
      "metadata": {
        "id": "20E-myq7w5TI",
        "outputId": "441fb72a-a596-4ef0-f76b-b427e05488f0",
        "colab": {
          "base_uri": "https://localhost:8080/",
          "height": 126
        }
      },
      "source": [
        "df_spam['Corpus'].head()"
      ],
      "execution_count": 143,
      "outputs": [
        {
          "output_type": "execute_result",
          "data": {
            "text/plain": [
              "0    Go until jurong point, crazy.. Available only ...\n",
              "1                        Ok lar... Joking wif u oni...\n",
              "2    Free entry in 2 a wkly comp to win FA Cup fina...\n",
              "3    U dun say so early hor... U c already then say...\n",
              "4    Nah I don't think he goes to usf, he lives aro...\n",
              "Name: Corpus, dtype: object"
            ]
          },
          "metadata": {
            "tags": []
          },
          "execution_count": 143
        }
      ]
    },
    {
      "cell_type": "code",
      "metadata": {
        "id": "Sa9xmX7VubHq",
        "outputId": "0b0bb264-6252-4512-8d18-b3f889de7162",
        "colab": {
          "base_uri": "https://localhost:8080/",
          "height": 206
        }
      },
      "source": [
        "df_spam.head()"
      ],
      "execution_count": 144,
      "outputs": [
        {
          "output_type": "execute_result",
          "data": {
            "text/html": [
              "<div>\n",
              "<style scoped>\n",
              "    .dataframe tbody tr th:only-of-type {\n",
              "        vertical-align: middle;\n",
              "    }\n",
              "\n",
              "    .dataframe tbody tr th {\n",
              "        vertical-align: top;\n",
              "    }\n",
              "\n",
              "    .dataframe thead th {\n",
              "        text-align: right;\n",
              "    }\n",
              "</style>\n",
              "<table border=\"1\" class=\"dataframe\">\n",
              "  <thead>\n",
              "    <tr style=\"text-align: right;\">\n",
              "      <th></th>\n",
              "      <th>Label</th>\n",
              "      <th>Corpus</th>\n",
              "      <th>Length</th>\n",
              "      <th>Corpus_clean_stem</th>\n",
              "      <th>Target</th>\n",
              "    </tr>\n",
              "  </thead>\n",
              "  <tbody>\n",
              "    <tr>\n",
              "      <th>0</th>\n",
              "      <td>ham</td>\n",
              "      <td>Go until jurong point, crazy.. Available only ...</td>\n",
              "      <td>111</td>\n",
              "      <td>go jurong point crazi avail bugi n great world...</td>\n",
              "      <td>0</td>\n",
              "    </tr>\n",
              "    <tr>\n",
              "      <th>1</th>\n",
              "      <td>ham</td>\n",
              "      <td>Ok lar... Joking wif u oni...</td>\n",
              "      <td>29</td>\n",
              "      <td>ok lar joke wif u oni</td>\n",
              "      <td>0</td>\n",
              "    </tr>\n",
              "    <tr>\n",
              "      <th>2</th>\n",
              "      <td>spam</td>\n",
              "      <td>Free entry in 2 a wkly comp to win FA Cup fina...</td>\n",
              "      <td>155</td>\n",
              "      <td>free entri wkli comp win fa cup final tkt st m...</td>\n",
              "      <td>1</td>\n",
              "    </tr>\n",
              "    <tr>\n",
              "      <th>3</th>\n",
              "      <td>ham</td>\n",
              "      <td>U dun say so early hor... U c already then say...</td>\n",
              "      <td>49</td>\n",
              "      <td>u dun say earli hor u c alreadi say</td>\n",
              "      <td>0</td>\n",
              "    </tr>\n",
              "    <tr>\n",
              "      <th>4</th>\n",
              "      <td>ham</td>\n",
              "      <td>Nah I don't think he goes to usf, he lives aro...</td>\n",
              "      <td>61</td>\n",
              "      <td>nah think goe usf live around though</td>\n",
              "      <td>0</td>\n",
              "    </tr>\n",
              "  </tbody>\n",
              "</table>\n",
              "</div>"
            ],
            "text/plain": [
              "  Label  ... Target\n",
              "0   ham  ...      0\n",
              "1   ham  ...      0\n",
              "2  spam  ...      1\n",
              "3   ham  ...      0\n",
              "4   ham  ...      0\n",
              "\n",
              "[5 rows x 5 columns]"
            ]
          },
          "metadata": {
            "tags": []
          },
          "execution_count": 144
        }
      ]
    },
    {
      "cell_type": "code",
      "metadata": {
        "id": "DKjIv1HNo9nB"
      },
      "source": [
        "def transform_feature(data,tech):\n",
        "\n",
        "  if tech == 'bow':\n",
        "    bow = CountVectorizer(max_features=5000)\n",
        "    x = bow.fit_transform(data).toarray()\n",
        "  elif tech == 'tfidf':\n",
        "    tfidf = TfidfVectorizer()\n",
        "    x = tfidf.fit_transform(data).toarray()\n",
        "  \n",
        "  return x"
      ],
      "execution_count": 145,
      "outputs": []
    },
    {
      "cell_type": "code",
      "metadata": {
        "id": "XSzOmtHS8-XA"
      },
      "source": [
        "#transforming the feature\n",
        "\n",
        "x = transform_feature(cleaned_corpus,tech='bow')"
      ],
      "execution_count": 146,
      "outputs": []
    },
    {
      "cell_type": "code",
      "metadata": {
        "id": "sJq0mzZZ2H0c"
      },
      "source": [
        "#split the data\n",
        "def split_data(x,y):\n",
        "  \n",
        "  X_train, X_test, y_train, y_test = train_test_split(x, y, test_size=.2, random_state=100)\n",
        "\n",
        "  return X_train, X_test, y_train, y_test"
      ],
      "execution_count": 147,
      "outputs": []
    },
    {
      "cell_type": "code",
      "metadata": {
        "id": "n2mxuRHk_mOC"
      },
      "source": [
        "#getting splited data\n",
        "X_train, X_test, y_train, y_test = split_data(x,df_spam['Target'])"
      ],
      "execution_count": 148,
      "outputs": []
    },
    {
      "cell_type": "code",
      "metadata": {
        "id": "xWKOwAcg6RgF",
        "outputId": "c1c095af-403b-4393-8354-6f0f0df6573b",
        "colab": {
          "base_uri": "https://localhost:8080/",
          "height": 35
        }
      },
      "source": [
        "X_train.shape, X_test.shape,y_train.shape, y_test.shape"
      ],
      "execution_count": 149,
      "outputs": [
        {
          "output_type": "execute_result",
          "data": {
            "text/plain": [
              "((4457, 5000), (1115, 5000), (4457,), (1115,))"
            ]
          },
          "metadata": {
            "tags": []
          },
          "execution_count": 149
        }
      ]
    },
    {
      "cell_type": "code",
      "metadata": {
        "id": "RQOTsRvq35_3"
      },
      "source": [
        "#train the model\n",
        "def build_model(X_train,y_train,X_test,y_test):\n",
        "  \n",
        "  spam_detect = MultinomialNB()\n",
        "  spam_detect.fit(X_train,y_train)\n",
        "  y_pred = spam_detect.predict(X_test)\n",
        "  predicted_prob = spam_detect.predict_proba(X_test)[:,1]\n",
        "  evaluate_model(y_test,y_pred, predicted_prob, figsize=(25,5))"
      ],
      "execution_count": 150,
      "outputs": []
    },
    {
      "cell_type": "code",
      "metadata": {
        "id": "Aiync9qQ5CAJ",
        "outputId": "f6f0b69e-71b6-4f3f-9cc9-382e5ded90da",
        "colab": {
          "base_uri": "https://localhost:8080/",
          "height": 617
        }
      },
      "source": [
        "build_model(X_train,y_train,X_test,y_test)"
      ],
      "execution_count": 151,
      "outputs": [
        {
          "output_type": "stream",
          "text": [
            "Accuracy (overall correct predictions): 0.98\n",
            "Auc: 0.98\n",
            "Recall (all 1s predicted right): 0.95\n",
            "Precision (confidence when predicting a 1): 0.91\n",
            "F1 score: 0.93\n",
            "Detail:\n",
            "              precision    recall  f1-score   support\n",
            "\n",
            "           0       0.99      0.99      0.99       968\n",
            "           1       0.91      0.95      0.93       147\n",
            "\n",
            "    accuracy                           0.98      1115\n",
            "   macro avg       0.95      0.97      0.96      1115\n",
            "weighted avg       0.98      0.98      0.98      1115\n",
            "\n"
          ],
          "name": "stdout"
        },
        {
          "output_type": "display_data",
          "data": {
            "image/png": "[encoded data removed]",
            "text/plain": [
              "<Figure size 1800x360 with 3 Axes>"
            ]
          },
          "metadata": {
            "tags": [],
            "needs_background": "light"
          }
        }
      ]
    },
    {
      "cell_type": "markdown",
      "metadata": {
        "id": "CN-muhUH-3C-"
      },
      "source": [
        "Modelling using Lemmetization techniques"
      ]
    },
    {
      "cell_type": "code",
      "metadata": {
        "id": "FO48TR3o-dOW"
      },
      "source": [
        "df_spam['Cleaned_corpus_lemma'],cleaned_corpus = clean_text(df_spam,columns='Corpus',tech=' ') #using lemmatization"
      ],
      "execution_count": 125,
      "outputs": []
    },
    {
      "cell_type": "code",
      "metadata": {
        "id": "Hq6OpNU9_MOT",
        "outputId": "d4bfc0f9-41c5-4777-bd8c-99e50f0bfb2c",
        "colab": {
          "base_uri": "https://localhost:8080/",
          "height": 206
        }
      },
      "source": [
        "df_spam.head()"
      ],
      "execution_count": 126,
      "outputs": [
        {
          "output_type": "execute_result",
          "data": {
            "text/html": [
              "<div>\n",
              "<style scoped>\n",
              "    .dataframe tbody tr th:only-of-type {\n",
              "        vertical-align: middle;\n",
              "    }\n",
              "\n",
              "    .dataframe tbody tr th {\n",
              "        vertical-align: top;\n",
              "    }\n",
              "\n",
              "    .dataframe thead th {\n",
              "        text-align: right;\n",
              "    }\n",
              "</style>\n",
              "<table border=\"1\" class=\"dataframe\">\n",
              "  <thead>\n",
              "    <tr style=\"text-align: right;\">\n",
              "      <th></th>\n",
              "      <th>Label</th>\n",
              "      <th>Corpus</th>\n",
              "      <th>Length</th>\n",
              "      <th>Corpus_clean_stem</th>\n",
              "      <th>Target</th>\n",
              "      <th>Cleaned_corpus_lemma</th>\n",
              "    </tr>\n",
              "  </thead>\n",
              "  <tbody>\n",
              "    <tr>\n",
              "      <th>0</th>\n",
              "      <td>ham</td>\n",
              "      <td>Go until jurong point, crazy.. Available only ...</td>\n",
              "      <td>111</td>\n",
              "      <td>go jurong point crazi avail bugi n great world...</td>\n",
              "      <td>0</td>\n",
              "      <td>go jurong point crazy available bugis n great ...</td>\n",
              "    </tr>\n",
              "    <tr>\n",
              "      <th>1</th>\n",
              "      <td>ham</td>\n",
              "      <td>Ok lar... Joking wif u oni...</td>\n",
              "      <td>29</td>\n",
              "      <td>ok lar joke wif u oni</td>\n",
              "      <td>0</td>\n",
              "      <td>ok lar joking wif u oni</td>\n",
              "    </tr>\n",
              "    <tr>\n",
              "      <th>2</th>\n",
              "      <td>spam</td>\n",
              "      <td>Free entry in 2 a wkly comp to win FA Cup fina...</td>\n",
              "      <td>155</td>\n",
              "      <td>free entri wkli comp win fa cup final tkt st m...</td>\n",
              "      <td>1</td>\n",
              "      <td>free entry wkly comp win fa cup final tkts st ...</td>\n",
              "    </tr>\n",
              "    <tr>\n",
              "      <th>3</th>\n",
              "      <td>ham</td>\n",
              "      <td>U dun say so early hor... U c already then say...</td>\n",
              "      <td>49</td>\n",
              "      <td>u dun say earli hor u c alreadi say</td>\n",
              "      <td>0</td>\n",
              "      <td>u dun say early hor u c already say</td>\n",
              "    </tr>\n",
              "    <tr>\n",
              "      <th>4</th>\n",
              "      <td>ham</td>\n",
              "      <td>Nah I don't think he goes to usf, he lives aro...</td>\n",
              "      <td>61</td>\n",
              "      <td>nah think goe usf live around though</td>\n",
              "      <td>0</td>\n",
              "      <td>nah think go usf life around though</td>\n",
              "    </tr>\n",
              "  </tbody>\n",
              "</table>\n",
              "</div>"
            ],
            "text/plain": [
              "  Label  ...                               Cleaned_corpus_lemma\n",
              "0   ham  ...  go jurong point crazy available bugis n great ...\n",
              "1   ham  ...                            ok lar joking wif u oni\n",
              "2  spam  ...  free entry wkly comp win fa cup final tkts st ...\n",
              "3   ham  ...                u dun say early hor u c already say\n",
              "4   ham  ...                nah think go usf life around though\n",
              "\n",
              "[5 rows x 6 columns]"
            ]
          },
          "metadata": {
            "tags": []
          },
          "execution_count": 126
        }
      ]
    },
    {
      "cell_type": "code",
      "metadata": {
        "id": "w81UFYITBMmB"
      },
      "source": [
        "#transforming the feature\n",
        "\n",
        "x = transform_feature(cleaned_corpus,tech='bow')"
      ],
      "execution_count": 127,
      "outputs": []
    },
    {
      "cell_type": "code",
      "metadata": {
        "id": "GMPdsACdBQBN"
      },
      "source": [
        "#getting splited data\n",
        "X_train, X_test, y_train, y_test = split_data(x,df_spam['Target'])"
      ],
      "execution_count": 128,
      "outputs": []
    },
    {
      "cell_type": "code",
      "metadata": {
        "id": "sXKSp53PBXoV",
        "outputId": "39404677-e31a-42c0-fce7-f7891f454e84",
        "colab": {
          "base_uri": "https://localhost:8080/",
          "height": 35
        }
      },
      "source": [
        "X_train.shape, X_test.shape,y_train.shape, y_test.shape"
      ],
      "execution_count": 129,
      "outputs": [
        {
          "output_type": "execute_result",
          "data": {
            "text/plain": [
              "((4457, 5000), (1115, 5000), (4457,), (1115,))"
            ]
          },
          "metadata": {
            "tags": []
          },
          "execution_count": 129
        }
      ]
    },
    {
      "cell_type": "code",
      "metadata": {
        "id": "DDHmiL6YBZ5o",
        "outputId": "beba3eb2-299e-4c89-f047-2d189e3d6cde",
        "colab": {
          "base_uri": "https://localhost:8080/",
          "height": 617
        }
      },
      "source": [
        "build_model(X_train,y_train,X_test,y_test)"
      ],
      "execution_count": 130,
      "outputs": [
        {
          "output_type": "stream",
          "text": [
            "Accuracy (overall correct predictions): 0.98\n",
            "Auc: 0.98\n",
            "Recall (all 1s predicted right): 0.94\n",
            "Precision (confidence when predicting a 1): 0.91\n",
            "F1 score: 0.93\n",
            "Detail:\n",
            "              precision    recall  f1-score   support\n",
            "\n",
            "           0       0.99      0.99      0.99       968\n",
            "           1       0.91      0.94      0.93       147\n",
            "\n",
            "    accuracy                           0.98      1115\n",
            "   macro avg       0.95      0.96      0.96      1115\n",
            "weighted avg       0.98      0.98      0.98      1115\n",
            "\n"
          ],
          "name": "stdout"
        },
        {
          "output_type": "display_data",
          "data": {
            "image/png": "[encoded data removed]",
            "text/plain": [
              "<Figure size 1800x360 with 3 Axes>"
            ]
          },
          "metadata": {
            "tags": [],
            "needs_background": "light"
          }
        }
      ]
    },
    {
      "cell_type": "markdown",
      "metadata": {
        "id": "gTD3Xx0AFwM_"
      },
      "source": [
        "## Modelling using TF-IDF vectorizer"
      ]
    },
    {
      "cell_type": "markdown",
      "metadata": {
        "id": "XpIQqIvYGHRd"
      },
      "source": [
        "Modelling using the stemming techniques"
      ]
    },
    {
      "cell_type": "code",
      "metadata": {
        "id": "DTzauwbZBcby"
      },
      "source": [
        "#transforming the feature\n",
        "\n",
        "x = transform_feature(cleaned_corpus,tech='tfidf')"
      ],
      "execution_count": 152,
      "outputs": []
    },
    {
      "cell_type": "code",
      "metadata": {
        "id": "J_OElZ9FGSrD"
      },
      "source": [
        "#getting splited data\n",
        "X_train, X_test, y_train, y_test = split_data(x,df_spam['Target'])"
      ],
      "execution_count": 153,
      "outputs": []
    },
    {
      "cell_type": "code",
      "metadata": {
        "id": "8cdzvtvcGUS9",
        "outputId": "815d8178-ba3d-47ab-8d7f-7adcfb944441",
        "colab": {
          "base_uri": "https://localhost:8080/",
          "height": 35
        }
      },
      "source": [
        "X_train.shape, X_test.shape,y_train.shape, y_test.shape"
      ],
      "execution_count": 154,
      "outputs": [
        {
          "output_type": "execute_result",
          "data": {
            "text/plain": [
              "((4457, 6296), (1115, 6296), (4457,), (1115,))"
            ]
          },
          "metadata": {
            "tags": []
          },
          "execution_count": 154
        }
      ]
    },
    {
      "cell_type": "code",
      "metadata": {
        "id": "wvPiTERSHB2p",
        "outputId": "a4353aae-e1fa-4107-eac4-3b0203411222",
        "colab": {
          "base_uri": "https://localhost:8080/",
          "height": 617
        }
      },
      "source": [
        "build_model(X_train,y_train,X_test,y_test)"
      ],
      "execution_count": 155,
      "outputs": [
        {
          "output_type": "stream",
          "text": [
            "Accuracy (overall correct predictions): 0.97\n",
            "Auc: 0.99\n",
            "Recall (all 1s predicted right): 0.75\n",
            "Precision (confidence when predicting a 1): 1.0\n",
            "F1 score: 0.86\n",
            "Detail:\n",
            "              precision    recall  f1-score   support\n",
            "\n",
            "           0       0.96      1.00      0.98       968\n",
            "           1       1.00      0.75      0.86       147\n",
            "\n",
            "    accuracy                           0.97      1115\n",
            "   macro avg       0.98      0.87      0.92      1115\n",
            "weighted avg       0.97      0.97      0.96      1115\n",
            "\n"
          ],
          "name": "stdout"
        },
        {
          "output_type": "display_data",
          "data": {
            "image/png": "[encoded data removed]",
            "text/plain": [
              "<Figure size 1800x360 with 3 Axes>"
            ]
          },
          "metadata": {
            "tags": [],
            "needs_background": "light"
          }
        }
      ]
    },
    {
      "cell_type": "markdown",
      "metadata": {
        "id": "C9Qy0OS2HMgb"
      },
      "source": [
        "Modelling using the lemmatization techniques"
      ]
    },
    {
      "cell_type": "code",
      "metadata": {
        "id": "sUDYNCx4HDKE"
      },
      "source": [
        "#transforming the feature\n",
        "\n",
        "x = transform_feature(cleaned_corpus,tech='tfidf')"
      ],
      "execution_count": 131,
      "outputs": []
    },
    {
      "cell_type": "code",
      "metadata": {
        "id": "w5xEgiXLH3Ua"
      },
      "source": [
        "#getting splited data\n",
        "X_train, X_test, y_train, y_test = split_data(x,df_spam['Target'])"
      ],
      "execution_count": 132,
      "outputs": []
    },
    {
      "cell_type": "code",
      "metadata": {
        "id": "jWRWNXfmH5t-",
        "outputId": "b98f8550-8753-4ac3-dc1b-80d493bd5572",
        "colab": {
          "base_uri": "https://localhost:8080/",
          "height": 35
        }
      },
      "source": [
        "X_train.shape, X_test.shape,y_train.shape, y_test.shape"
      ],
      "execution_count": 133,
      "outputs": [
        {
          "output_type": "execute_result",
          "data": {
            "text/plain": [
              "((4457, 7098), (1115, 7098), (4457,), (1115,))"
            ]
          },
          "metadata": {
            "tags": []
          },
          "execution_count": 133
        }
      ]
    },
    {
      "cell_type": "code",
      "metadata": {
        "id": "L_XZZRZFH7w_",
        "outputId": "6ff4e731-5421-4139-b50d-c200fa4dbd6b",
        "colab": {
          "base_uri": "https://localhost:8080/",
          "height": 617
        }
      },
      "source": [
        "build_model(X_train,y_train,X_test,y_test)"
      ],
      "execution_count": 134,
      "outputs": [
        {
          "output_type": "stream",
          "text": [
            "Accuracy (overall correct predictions): 0.97\n",
            "Auc: 0.99\n",
            "Recall (all 1s predicted right): 0.76\n",
            "Precision (confidence when predicting a 1): 1.0\n",
            "F1 score: 0.86\n",
            "Detail:\n",
            "              precision    recall  f1-score   support\n",
            "\n",
            "           0       0.97      1.00      0.98       968\n",
            "           1       1.00      0.76      0.86       147\n",
            "\n",
            "    accuracy                           0.97      1115\n",
            "   macro avg       0.98      0.88      0.92      1115\n",
            "weighted avg       0.97      0.97      0.97      1115\n",
            "\n"
          ],
          "name": "stdout"
        },
        {
          "output_type": "display_data",
          "data": {
            "image/png": "[encoded data removed]",
            "text/plain": [
              "<Figure size 1800x360 with 3 Axes>"
            ]
          },
          "metadata": {
            "tags": [],
            "needs_background": "light"
          }
        }
      ]
    },
    {
      "cell_type": "code",
      "metadata": {
        "id": "Pb0uAgbDIgkR"
      },
      "source": [
        ""
      ],
      "execution_count": null,
      "outputs": []
    }
  ]
}